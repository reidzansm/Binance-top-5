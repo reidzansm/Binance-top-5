{
 "cells": [
  {
   "cell_type": "code",
   "execution_count": 244,
   "id": "empirical-mexican",
   "metadata": {},
   "outputs": [],
   "source": [
    "import pandas as pd\n",
    "from datetime import datetime, timedelta, timezone\n",
    "import numpy as np"
   ]
  },
  {
   "cell_type": "code",
   "execution_count": 245,
   "id": "several-television",
   "metadata": {},
   "outputs": [],
   "source": [
    "pd.set_option('display.float_format', lambda x: '%.3f' % x)"
   ]
  },
  {
   "cell_type": "code",
   "execution_count": 246,
   "id": "enhanced-receptor",
   "metadata": {},
   "outputs": [],
   "source": [
    "def read_binance_trades(filename:str)->pd.DataFrame:\n",
    "    \"\"\"\n",
    "    Read trade daily files downloaded from binance vision\n",
    "    \"\"\"\n",
    "    df = pd.read_csv(filename,header=None)\n",
    "    df.columns = ['trade Id','price','qty','quoteQty','time','isBuyerMaker','isBestMatch']\n",
    "    return df"
   ]
  },
  {
   "cell_type": "code",
   "execution_count": 255,
   "id": "preceding-edgar",
   "metadata": {},
   "outputs": [],
   "source": [
    "#Load 20th and 21st of January spot trading data\n",
    "#Note: The timestamp for SPOT Data from January 1st 2025 onwards will be in microseconds.\n",
    "df_20 = read_binance_trades('BTCUSDT-trades-2025-01-20.csv')\n",
    "df_21 = read_binance_trades('BTCUSDT-trades-2025-01-21.csv')\n",
    "df = pd.concat([df_20,df_21],axis=0).reset_index(drop=True)"
   ]
  },
  {
   "cell_type": "code",
   "execution_count": 256,
   "id": "local-image",
   "metadata": {},
   "outputs": [],
   "source": [
    "#Time window 24hrs after Trump's re-election with timestamps in UTC\n",
    "trump_reelection_date = datetime(2025, 1, 20, 17, 0,0,tzinfo=timezone.utc)\n",
    "start_time = trump_reelection_date.timestamp()*1_000_000\n",
    "end_time = (trump_reelection_date + timedelta(days=1)).timestamp()*1_000_000"
   ]
  },
  {
   "cell_type": "code",
   "execution_count": 257,
   "id": "married-binary",
   "metadata": {},
   "outputs": [],
   "source": [
    "#Filter 24hrs window after re-election\n",
    "df = df[(df[\"time\"] >= start_time) & (df[\"time\"] < end_time)]"
   ]
  },
  {
   "cell_type": "code",
   "execution_count": 258,
   "id": "prescribed-change",
   "metadata": {},
   "outputs": [],
   "source": [
    "#Group by same trade in the same microsecond and on the same side\n",
    "df_grouped = df.groupby(['time','isBuyerMaker'])[['quoteQty','qty']].sum()"
   ]
  },
  {
   "cell_type": "code",
   "execution_count": 266,
   "id": "engaging-morning",
   "metadata": {},
   "outputs": [],
   "source": [
    "#5 largest trades by USDT\n",
    "top_5 = df_grouped.reset_index().nlargest(5, \"quoteQty\",keep='all')"
   ]
  },
  {
   "cell_type": "code",
   "execution_count": 267,
   "id": "alien-classroom",
   "metadata": {},
   "outputs": [],
   "source": [
    "top_5['isBuyerMaker'] = top_5.isBuyerMaker.map({True:'SELL',False:'BUY'})\n",
    "top_5.rename(columns={'time':'Timestamp (μs)', 'isBuyerMaker':'Side (BUY/SELL)', 'quoteQty':'Amount (USDT)', 'qty':'Amount (BTC)'},inplace=True)"
   ]
  },
  {
   "cell_type": "code",
   "execution_count": 268,
   "id": "allied-offering",
   "metadata": {},
   "outputs": [
    {
     "data": {
      "text/html": [
       "<div>\n",
       "<style scoped>\n",
       "    .dataframe tbody tr th:only-of-type {\n",
       "        vertical-align: middle;\n",
       "    }\n",
       "\n",
       "    .dataframe tbody tr th {\n",
       "        vertical-align: top;\n",
       "    }\n",
       "\n",
       "    .dataframe thead th {\n",
       "        text-align: right;\n",
       "    }\n",
       "</style>\n",
       "<table border=\"1\" class=\"dataframe\">\n",
       "  <thead>\n",
       "    <tr style=\"text-align: right;\">\n",
       "      <th></th>\n",
       "      <th>Timestamp (μs)</th>\n",
       "      <th>Amount (BTC)</th>\n",
       "      <th>Amount (USDT)</th>\n",
       "      <th>Side (BUY/SELL)</th>\n",
       "    </tr>\n",
       "  </thead>\n",
       "  <tbody>\n",
       "    <tr>\n",
       "      <th>1362471</th>\n",
       "      <td>1737458674827737</td>\n",
       "      <td>48.720</td>\n",
       "      <td>5048282.731</td>\n",
       "      <td>BUY</td>\n",
       "    </tr>\n",
       "    <tr>\n",
       "      <th>434224</th>\n",
       "      <td>1737398772311251</td>\n",
       "      <td>34.361</td>\n",
       "      <td>3578679.637</td>\n",
       "      <td>BUY</td>\n",
       "    </tr>\n",
       "    <tr>\n",
       "      <th>199781</th>\n",
       "      <td>1737394752405237</td>\n",
       "      <td>30.242</td>\n",
       "      <td>3086008.255</td>\n",
       "      <td>SELL</td>\n",
       "    </tr>\n",
       "    <tr>\n",
       "      <th>1103794</th>\n",
       "      <td>1737437040221884</td>\n",
       "      <td>28.578</td>\n",
       "      <td>2911022.170</td>\n",
       "      <td>SELL</td>\n",
       "    </tr>\n",
       "    <tr>\n",
       "      <th>433304</th>\n",
       "      <td>1737398733780866</td>\n",
       "      <td>27.736</td>\n",
       "      <td>2886232.437</td>\n",
       "      <td>BUY</td>\n",
       "    </tr>\n",
       "  </tbody>\n",
       "</table>\n",
       "</div>"
      ],
      "text/plain": [
       "           Timestamp (μs)  Amount (BTC)  Amount (USDT) Side (BUY/SELL)\n",
       "1362471  1737458674827737        48.720    5048282.731             BUY\n",
       "434224   1737398772311251        34.361    3578679.637             BUY\n",
       "199781   1737394752405237        30.242    3086008.255            SELL\n",
       "1103794  1737437040221884        28.578    2911022.170            SELL\n",
       "433304   1737398733780866        27.736    2886232.437             BUY"
      ]
     },
     "execution_count": 268,
     "metadata": {},
     "output_type": "execute_result"
    }
   ],
   "source": [
    "top_5[['Timestamp (μs)','Amount (BTC)','Amount (USDT)','Side (BUY/SELL)']]"
   ]
  }
 ],
 "metadata": {
  "kernelspec": {
   "display_name": "Python for Data Science",
   "language": "python",
   "name": "pyds"
  },
  "language_info": {
   "codemirror_mode": {
    "name": "ipython",
    "version": 3
   },
   "file_extension": ".py",
   "mimetype": "text/x-python",
   "name": "python",
   "nbconvert_exporter": "python",
   "pygments_lexer": "ipython3",
   "version": "3.8.5"
  }
 },
 "nbformat": 4,
 "nbformat_minor": 5
}
